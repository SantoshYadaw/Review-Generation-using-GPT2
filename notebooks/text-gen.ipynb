{
 "cells": [
  {
   "cell_type": "markdown",
   "id": "7008ff40-034f-413c-856b-faa24d0fe96d",
   "metadata": {},
   "source": [
    "# Text Generation using GPT2\n",
    "\n",
    "Project Description: Generate text using GPT models\n",
    "Author:\n",
    "    - Santosh Yadaw\n",
    "    - santoshyadawprl@gmail.com"
   ]
  },
  {
   "cell_type": "code",
   "execution_count": 1,
   "id": "0cf23d1d-1bf9-4f43-9989-ef54e9be12b6",
   "metadata": {},
   "outputs": [],
   "source": [
    "# Imports\n",
    "import os\n",
    "import re\n",
    "import string\n",
    "import logging\n",
    "import numpy as np\n",
    "import pandas as pd\n",
    "import seaborn as sns\n",
    "import matplotlib.pyplot as plt\n",
    "\n",
    "\n",
    "from tqdm.auto import tqdm\n",
    "from tqdm import trange\n",
    "from nltk import tokenize\n",
    "from nltk.corpus import stopwords\n",
    "from nltk.stem import WordNetLemmatizer\n",
    "from nltk.probability import FreqDist\n",
    "from collections import Counter\n",
    "from sklearn.feature_extraction.text import CountVectorizer\n",
    "\n",
    "tqdm.pandas()"
   ]
  },
  {
   "cell_type": "code",
   "execution_count": 2,
   "id": "c1d3d297-24f5-44fe-921a-9b9cffe51b2c",
   "metadata": {},
   "outputs": [],
   "source": [
    "# Setup logging\n",
    "logging.basicConfig(level=logging.INFO)\n",
    "logger = logging"
   ]
  },
  {
   "cell_type": "code",
   "execution_count": 3,
   "id": "493b243a-11c3-4880-88d4-9d364e088ae4",
   "metadata": {},
   "outputs": [
    {
     "name": "stderr",
     "output_type": "stream",
     "text": [
      "INFO:root:HOME_PATH: /home/jupyter/text-gen\n",
      "INFO:root:DATA_PATH: /home/jupyter/text-gen/data/raw/task2.csv\n"
     ]
    }
   ],
   "source": [
    "# Constants\n",
    "HOME_PATH = os.path.split(os.getcwd())[0]\n",
    "logger.info(f\"HOME_PATH: {HOME_PATH}\")\n",
    "DATA_PATH = os.path.join(HOME_PATH,\"data\", \"raw\", \"task2.csv\")\n",
    "logger.info(f\"DATA_PATH: {DATA_PATH}\")"
   ]
  },
  {
   "cell_type": "markdown",
   "id": "284d76ef-c1fb-40de-af1c-869f52340e42",
   "metadata": {},
   "source": [
    "## 1. Setup Data"
   ]
  },
  {
   "cell_type": "code",
   "execution_count": 4,
   "id": "905fce39-9f6b-4723-8412-30ad2321f7e3",
   "metadata": {},
   "outputs": [
    {
     "data": {
      "text/html": [
       "<div>\n",
       "<style scoped>\n",
       "    .dataframe tbody tr th:only-of-type {\n",
       "        vertical-align: middle;\n",
       "    }\n",
       "\n",
       "    .dataframe tbody tr th {\n",
       "        vertical-align: top;\n",
       "    }\n",
       "\n",
       "    .dataframe thead th {\n",
       "        text-align: right;\n",
       "    }\n",
       "</style>\n",
       "<table border=\"1\" class=\"dataframe\">\n",
       "  <thead>\n",
       "    <tr style=\"text-align: right;\">\n",
       "      <th></th>\n",
       "      <th>text</th>\n",
       "    </tr>\n",
       "  </thead>\n",
       "  <tbody>\n",
       "    <tr>\n",
       "      <th>0</th>\n",
       "      <td>This product so far has not disappointed. My c...</td>\n",
       "    </tr>\n",
       "    <tr>\n",
       "      <th>1</th>\n",
       "      <td>great for beginner or experienced person. Boug...</td>\n",
       "    </tr>\n",
       "    <tr>\n",
       "      <th>2</th>\n",
       "      <td>Inexpensive tablet for him to use and learn on...</td>\n",
       "    </tr>\n",
       "    <tr>\n",
       "      <th>3</th>\n",
       "      <td>I've had my Fire HD 8 two weeks now and I love...</td>\n",
       "    </tr>\n",
       "    <tr>\n",
       "      <th>4</th>\n",
       "      <td>I bought this for my grand daughter when she c...</td>\n",
       "    </tr>\n",
       "  </tbody>\n",
       "</table>\n",
       "</div>"
      ],
      "text/plain": [
       "                                                text\n",
       "0  This product so far has not disappointed. My c...\n",
       "1  great for beginner or experienced person. Boug...\n",
       "2  Inexpensive tablet for him to use and learn on...\n",
       "3  I've had my Fire HD 8 two weeks now and I love...\n",
       "4  I bought this for my grand daughter when she c..."
      ]
     },
     "execution_count": 4,
     "metadata": {},
     "output_type": "execute_result"
    }
   ],
   "source": [
    "# Load Data\n",
    "data = pd.read_csv(DATA_PATH, encoding=\"ISO-8859-1\")\n",
    "data = data.T.reset_index().T.reset_index(drop=True).rename(columns={0: \"text\"})\n",
    "data.head()"
   ]
  },
  {
   "cell_type": "markdown",
   "id": "aacc3b00-a95f-4354-86f0-0c0b1b06e583",
   "metadata": {},
   "source": [
    "## 2. EDA\n",
    "- Character count\n",
    "- Word count\n",
    "- Mean word length\n",
    "- Mean Sentence Length\n",
    "- Term Frequency Analysis"
   ]
  },
  {
   "cell_type": "markdown",
   "id": "8d3092c2-a13b-479a-8ca8-2be415016e8e",
   "metadata": {},
   "source": [
    "### 2a. Character Count"
   ]
  },
  {
   "cell_type": "code",
   "execution_count": 5,
   "id": "34d6d220-ea41-4689-9c5a-997e636ed387",
   "metadata": {},
   "outputs": [],
   "source": [
    "# Add character count\n",
    "data['Length'] = data['text'].str.len()"
   ]
  },
  {
   "cell_type": "markdown",
   "id": "8067409b-6f04-4a1e-bd56-c8ce817e87bc",
   "metadata": {},
   "source": [
    "### 2b. Word Count"
   ]
  },
  {
   "cell_type": "code",
   "execution_count": 6,
   "id": "2a1f866c-8ec8-4e6b-9fed-2e20bf7c2739",
   "metadata": {},
   "outputs": [],
   "source": [
    "def word_count(text_data):\n",
    "    text_data_list = text_data.split()\n",
    "    return len(text_data_list)"
   ]
  },
  {
   "cell_type": "code",
   "execution_count": 7,
   "id": "d46cd482-1c8d-4104-b7ef-2e9bd0568177",
   "metadata": {},
   "outputs": [],
   "source": [
    "# Add word count\n",
    "data['Word_count'] = data['text'].apply(word_count)"
   ]
  },
  {
   "cell_type": "markdown",
   "id": "5bbbe9c5-4030-4c4f-9a79-734c286c3c03",
   "metadata": {},
   "source": [
    "### 2c. Mean word length"
   ]
  },
  {
   "cell_type": "code",
   "execution_count": 8,
   "id": "a9001e94-a19c-427b-ab19-3e2db345b67e",
   "metadata": {},
   "outputs": [],
   "source": [
    "# Add average word length\n",
    "data['mean_word_length'] = data['text'].map(lambda rev: np.mean([len(word) for word in rev.split()]))"
   ]
  },
  {
   "cell_type": "code",
   "execution_count": 9,
   "id": "865dbd5d-55d6-4fda-9c88-159d828aa4f5",
   "metadata": {},
   "outputs": [
    {
     "data": {
      "text/html": [
       "<div>\n",
       "<style scoped>\n",
       "    .dataframe tbody tr th:only-of-type {\n",
       "        vertical-align: middle;\n",
       "    }\n",
       "\n",
       "    .dataframe tbody tr th {\n",
       "        vertical-align: top;\n",
       "    }\n",
       "\n",
       "    .dataframe thead th {\n",
       "        text-align: right;\n",
       "    }\n",
       "</style>\n",
       "<table border=\"1\" class=\"dataframe\">\n",
       "  <thead>\n",
       "    <tr style=\"text-align: right;\">\n",
       "      <th></th>\n",
       "      <th>text</th>\n",
       "      <th>Length</th>\n",
       "      <th>Word_count</th>\n",
       "      <th>mean_word_length</th>\n",
       "    </tr>\n",
       "  </thead>\n",
       "  <tbody>\n",
       "    <tr>\n",
       "      <th>0</th>\n",
       "      <td>This product so far has not disappointed. My c...</td>\n",
       "      <td>143</td>\n",
       "      <td>27</td>\n",
       "      <td>4.333333</td>\n",
       "    </tr>\n",
       "    <tr>\n",
       "      <th>1</th>\n",
       "      <td>great for beginner or experienced person. Boug...</td>\n",
       "      <td>75</td>\n",
       "      <td>14</td>\n",
       "      <td>4.428571</td>\n",
       "    </tr>\n",
       "    <tr>\n",
       "      <th>2</th>\n",
       "      <td>Inexpensive tablet for him to use and learn on...</td>\n",
       "      <td>131</td>\n",
       "      <td>26</td>\n",
       "      <td>4.076923</td>\n",
       "    </tr>\n",
       "    <tr>\n",
       "      <th>3</th>\n",
       "      <td>I've had my Fire HD 8 two weeks now and I love...</td>\n",
       "      <td>593</td>\n",
       "      <td>117</td>\n",
       "      <td>4.076923</td>\n",
       "    </tr>\n",
       "    <tr>\n",
       "      <th>4</th>\n",
       "      <td>I bought this for my grand daughter when she c...</td>\n",
       "      <td>613</td>\n",
       "      <td>117</td>\n",
       "      <td>4.247863</td>\n",
       "    </tr>\n",
       "    <tr>\n",
       "      <th>...</th>\n",
       "      <td>...</td>\n",
       "      <td>...</td>\n",
       "      <td>...</td>\n",
       "      <td>...</td>\n",
       "    </tr>\n",
       "    <tr>\n",
       "      <th>67986</th>\n",
       "      <td>I got 2 of these for my 8 yr old twins. My 11 ...</td>\n",
       "      <td>116</td>\n",
       "      <td>29</td>\n",
       "      <td>3.034483</td>\n",
       "    </tr>\n",
       "    <tr>\n",
       "      <th>67987</th>\n",
       "      <td>I bought this for my niece for a Christmas gif...</td>\n",
       "      <td>83</td>\n",
       "      <td>18</td>\n",
       "      <td>3.666667</td>\n",
       "    </tr>\n",
       "    <tr>\n",
       "      <th>67988</th>\n",
       "      <td>Very nice for light internet browsing, keeping...</td>\n",
       "      <td>317</td>\n",
       "      <td>57</td>\n",
       "      <td>4.578947</td>\n",
       "    </tr>\n",
       "    <tr>\n",
       "      <th>67989</th>\n",
       "      <td>This Tablet does absolutely everything I want!...</td>\n",
       "      <td>241</td>\n",
       "      <td>43</td>\n",
       "      <td>4.627907</td>\n",
       "    </tr>\n",
       "    <tr>\n",
       "      <th>67990</th>\n",
       "      <td>At ninety dollars, the expectionations are low...</td>\n",
       "      <td>315</td>\n",
       "      <td>60</td>\n",
       "      <td>4.266667</td>\n",
       "    </tr>\n",
       "  </tbody>\n",
       "</table>\n",
       "<p>67991 rows × 4 columns</p>\n",
       "</div>"
      ],
      "text/plain": [
       "                                                    text  Length  Word_count  \\\n",
       "0      This product so far has not disappointed. My c...     143          27   \n",
       "1      great for beginner or experienced person. Boug...      75          14   \n",
       "2      Inexpensive tablet for him to use and learn on...     131          26   \n",
       "3      I've had my Fire HD 8 two weeks now and I love...     593         117   \n",
       "4      I bought this for my grand daughter when she c...     613         117   \n",
       "...                                                  ...     ...         ...   \n",
       "67986  I got 2 of these for my 8 yr old twins. My 11 ...     116          29   \n",
       "67987  I bought this for my niece for a Christmas gif...      83          18   \n",
       "67988  Very nice for light internet browsing, keeping...     317          57   \n",
       "67989  This Tablet does absolutely everything I want!...     241          43   \n",
       "67990  At ninety dollars, the expectionations are low...     315          60   \n",
       "\n",
       "       mean_word_length  \n",
       "0              4.333333  \n",
       "1              4.428571  \n",
       "2              4.076923  \n",
       "3              4.076923  \n",
       "4              4.247863  \n",
       "...                 ...  \n",
       "67986          3.034483  \n",
       "67987          3.666667  \n",
       "67988          4.578947  \n",
       "67989          4.627907  \n",
       "67990          4.266667  \n",
       "\n",
       "[67991 rows x 4 columns]"
      ]
     },
     "execution_count": 9,
     "metadata": {},
     "output_type": "execute_result"
    }
   ],
   "source": [
    "data"
   ]
  },
  {
   "cell_type": "markdown",
   "id": "23b4645f-9a28-4eaf-83f8-eca7c7ebdb13",
   "metadata": {},
   "source": [
    "### 2d. Mean Sentence Length"
   ]
  },
  {
   "cell_type": "code",
   "execution_count": 10,
   "id": "32b98557-f48c-4bd3-a021-a505ac97c5e3",
   "metadata": {},
   "outputs": [],
   "source": [
    "data['mean_sent_length'] = data['text'].map(lambda rev: np.mean([len(sent) for sent in tokenize.sent_tokenize(rev)]))"
   ]
  },
  {
   "cell_type": "code",
   "execution_count": 11,
   "id": "6fed5cd9-6398-48d4-b64d-fcc3d7972f63",
   "metadata": {},
   "outputs": [
    {
     "data": {
      "text/html": [
       "<div>\n",
       "<style scoped>\n",
       "    .dataframe tbody tr th:only-of-type {\n",
       "        vertical-align: middle;\n",
       "    }\n",
       "\n",
       "    .dataframe tbody tr th {\n",
       "        vertical-align: top;\n",
       "    }\n",
       "\n",
       "    .dataframe thead th {\n",
       "        text-align: right;\n",
       "    }\n",
       "</style>\n",
       "<table border=\"1\" class=\"dataframe\">\n",
       "  <thead>\n",
       "    <tr style=\"text-align: right;\">\n",
       "      <th></th>\n",
       "      <th>text</th>\n",
       "      <th>Length</th>\n",
       "      <th>Word_count</th>\n",
       "      <th>mean_word_length</th>\n",
       "      <th>mean_sent_length</th>\n",
       "    </tr>\n",
       "  </thead>\n",
       "  <tbody>\n",
       "    <tr>\n",
       "      <th>0</th>\n",
       "      <td>This product so far has not disappointed. My c...</td>\n",
       "      <td>143</td>\n",
       "      <td>27</td>\n",
       "      <td>4.333333</td>\n",
       "      <td>71.000000</td>\n",
       "    </tr>\n",
       "    <tr>\n",
       "      <th>1</th>\n",
       "      <td>great for beginner or experienced person. Boug...</td>\n",
       "      <td>75</td>\n",
       "      <td>14</td>\n",
       "      <td>4.428571</td>\n",
       "      <td>37.000000</td>\n",
       "    </tr>\n",
       "    <tr>\n",
       "      <th>2</th>\n",
       "      <td>Inexpensive tablet for him to use and learn on...</td>\n",
       "      <td>131</td>\n",
       "      <td>26</td>\n",
       "      <td>4.076923</td>\n",
       "      <td>65.000000</td>\n",
       "    </tr>\n",
       "    <tr>\n",
       "      <th>3</th>\n",
       "      <td>I've had my Fire HD 8 two weeks now and I love...</td>\n",
       "      <td>593</td>\n",
       "      <td>117</td>\n",
       "      <td>4.076923</td>\n",
       "      <td>147.500000</td>\n",
       "    </tr>\n",
       "    <tr>\n",
       "      <th>4</th>\n",
       "      <td>I bought this for my grand daughter when she c...</td>\n",
       "      <td>613</td>\n",
       "      <td>117</td>\n",
       "      <td>4.247863</td>\n",
       "      <td>101.333333</td>\n",
       "    </tr>\n",
       "    <tr>\n",
       "      <th>...</th>\n",
       "      <td>...</td>\n",
       "      <td>...</td>\n",
       "      <td>...</td>\n",
       "      <td>...</td>\n",
       "      <td>...</td>\n",
       "    </tr>\n",
       "    <tr>\n",
       "      <th>67986</th>\n",
       "      <td>I got 2 of these for my 8 yr old twins. My 11 ...</td>\n",
       "      <td>116</td>\n",
       "      <td>29</td>\n",
       "      <td>3.034483</td>\n",
       "      <td>38.000000</td>\n",
       "    </tr>\n",
       "    <tr>\n",
       "      <th>67987</th>\n",
       "      <td>I bought this for my niece for a Christmas gif...</td>\n",
       "      <td>83</td>\n",
       "      <td>18</td>\n",
       "      <td>3.666667</td>\n",
       "      <td>83.000000</td>\n",
       "    </tr>\n",
       "    <tr>\n",
       "      <th>67988</th>\n",
       "      <td>Very nice for light internet browsing, keeping...</td>\n",
       "      <td>317</td>\n",
       "      <td>57</td>\n",
       "      <td>4.578947</td>\n",
       "      <td>78.500000</td>\n",
       "    </tr>\n",
       "    <tr>\n",
       "      <th>67989</th>\n",
       "      <td>This Tablet does absolutely everything I want!...</td>\n",
       "      <td>241</td>\n",
       "      <td>43</td>\n",
       "      <td>4.627907</td>\n",
       "      <td>59.500000</td>\n",
       "    </tr>\n",
       "    <tr>\n",
       "      <th>67990</th>\n",
       "      <td>At ninety dollars, the expectionations are low...</td>\n",
       "      <td>315</td>\n",
       "      <td>60</td>\n",
       "      <td>4.266667</td>\n",
       "      <td>157.000000</td>\n",
       "    </tr>\n",
       "  </tbody>\n",
       "</table>\n",
       "<p>67991 rows × 5 columns</p>\n",
       "</div>"
      ],
      "text/plain": [
       "                                                    text  Length  Word_count  \\\n",
       "0      This product so far has not disappointed. My c...     143          27   \n",
       "1      great for beginner or experienced person. Boug...      75          14   \n",
       "2      Inexpensive tablet for him to use and learn on...     131          26   \n",
       "3      I've had my Fire HD 8 two weeks now and I love...     593         117   \n",
       "4      I bought this for my grand daughter when she c...     613         117   \n",
       "...                                                  ...     ...         ...   \n",
       "67986  I got 2 of these for my 8 yr old twins. My 11 ...     116          29   \n",
       "67987  I bought this for my niece for a Christmas gif...      83          18   \n",
       "67988  Very nice for light internet browsing, keeping...     317          57   \n",
       "67989  This Tablet does absolutely everything I want!...     241          43   \n",
       "67990  At ninety dollars, the expectionations are low...     315          60   \n",
       "\n",
       "       mean_word_length  mean_sent_length  \n",
       "0              4.333333         71.000000  \n",
       "1              4.428571         37.000000  \n",
       "2              4.076923         65.000000  \n",
       "3              4.076923        147.500000  \n",
       "4              4.247863        101.333333  \n",
       "...                 ...               ...  \n",
       "67986          3.034483         38.000000  \n",
       "67987          3.666667         83.000000  \n",
       "67988          4.578947         78.500000  \n",
       "67989          4.627907         59.500000  \n",
       "67990          4.266667        157.000000  \n",
       "\n",
       "[67991 rows x 5 columns]"
      ]
     },
     "execution_count": 11,
     "metadata": {},
     "output_type": "execute_result"
    }
   ],
   "source": [
    "data"
   ]
  },
  {
   "cell_type": "code",
   "execution_count": 12,
   "id": "299f40a5-52ff-4c9c-a2dd-edaeeff4f866",
   "metadata": {},
   "outputs": [],
   "source": [
    "def visualize(col):\n",
    "    \n",
    "    print()\n",
    "    plt.subplot(1,2,1)\n",
    "    sns.boxplot(y=data[col])\n",
    "    plt.ylabel(col, labelpad=12.5)\n",
    "    \n",
    "    plt.subplot(1,2,2)\n",
    "    sns.kdeplot(data[col])\n",
    "    plt.xlabel('')\n",
    "    plt.ylabel('')\n",
    "    \n",
    "    plt.show()"
   ]
  },
  {
   "cell_type": "code",
   "execution_count": 13,
   "id": "e561aca6-18d3-4b67-99d3-ac3708f6b4eb",
   "metadata": {},
   "outputs": [
    {
     "name": "stdout",
     "output_type": "stream",
     "text": [
      "\n"
     ]
    },
    {
     "data": {
      "image/png": "[encoded data removed]",
      "text/plain": [
       "<Figure size 640x480 with 2 Axes>"
      ]
     },
     "metadata": {},
     "output_type": "display_data"
    },
    {
     "name": "stdout",
     "output_type": "stream",
     "text": [
      "\n"
     ]
    },
    {
     "data": {
      "image/png": "[encoded data removed]",
      "text/plain": [
       "<Figure size 640x480 with 2 Axes>"
      ]
     },
     "metadata": {},
     "output_type": "display_data"
    },
    {
     "name": "stdout",
     "output_type": "stream",
     "text": [
      "\n"
     ]
    },
    {
     "data": {
      "image/png": "[encoded data removed]",
      "text/plain": [
       "<Figure size 640x480 with 2 Axes>"
      ]
     },
     "metadata": {},
     "output_type": "display_data"
    }
   ],
   "source": [
    "features = data.columns.tolist()[2:]\n",
    "for feature in features:\n",
    "    visualize(feature)"
   ]
  },
  {
   "cell_type": "markdown",
   "id": "f750076e-32e7-4a6e-bd3c-13741ff47104",
   "metadata": {},
   "source": [
    "### 2e. Term Frequency Analysis"
   ]
  },
  {
   "cell_type": "code",
   "execution_count": 14,
   "id": "38247c95-1e11-44c4-8023-047afa30d6b3",
   "metadata": {},
   "outputs": [],
   "source": [
    "def clean(review):\n",
    "    \n",
    "    review = review.lower()\n",
    "    review = re.sub('[^a-z A-Z 0-9-]+', '', review)\n",
    "    review = \" \".join([word for word in review.split() if word not in stopwords.words('english')])\n",
    "    \n",
    "    return review\n",
    "\n",
    "def corpus(text):\n",
    "    text_list = text.split()\n",
    "    return text_list"
   ]
  },
  {
   "cell_type": "code",
   "execution_count": 15,
   "id": "b9a5eb37-b470-423a-9ced-e04eb991fa2b",
   "metadata": {},
   "outputs": [
    {
     "data": {
      "application/vnd.jupyter.widget-view+json": {
       "model_id": "821514b6242442d7aac1347adf3bdf99",
       "version_major": 2,
       "version_minor": 0
      },
      "text/plain": [
       "  0%|          | 0/67991 [00:00<?, ?it/s]"
      ]
     },
     "metadata": {},
     "output_type": "display_data"
    }
   ],
   "source": [
    "data['text'] = data['text'].progress_apply(clean)"
   ]
  },
  {
   "cell_type": "code",
   "execution_count": 16,
   "id": "e19519cd-e74b-4768-befc-ae1abf34b7ea",
   "metadata": {},
   "outputs": [
    {
     "data": {
      "application/vnd.jupyter.widget-view+json": {
       "model_id": "1808e053a8354b3fa54c797aa959ba21",
       "version_major": 2,
       "version_minor": 0
      },
      "text/plain": [
       "  0%|          | 0/67991 [00:00<?, ?it/s]"
      ]
     },
     "metadata": {},
     "output_type": "display_data"
    }
   ],
   "source": [
    "data['text_lists'] = data['text'].progress_apply(corpus)"
   ]
  },
  {
   "cell_type": "code",
   "execution_count": 17,
   "id": "7c965080-65ed-4145-8bab-7e408073569a",
   "metadata": {},
   "outputs": [
    {
     "name": "stderr",
     "output_type": "stream",
     "text": [
      "100%|\u001b[32m███████████████████████████████████████████████████████████████████████████████████████████████████████\u001b[0m| 67991/67991 [00:00<00:00, 186060.01it/s]\u001b[0m\n"
     ]
    },
    {
     "data": {
      "text/plain": [
       "995570"
      ]
     },
     "execution_count": 17,
     "metadata": {},
     "output_type": "execute_result"
    }
   ],
   "source": [
    "corpus = []\n",
    "for i in trange(data.shape[0], ncols=150, nrows=10, colour='green', smoothing=0.8):\n",
    "    corpus += data['text_lists'][i]\n",
    "len(corpus)"
   ]
  },
  {
   "cell_type": "code",
   "execution_count": 18,
   "id": "16d5b3ae-29ab-40e2-8280-39073f9ebb8b",
   "metadata": {},
   "outputs": [
    {
     "data": {
      "text/plain": [
       "[('great', 22674),\n",
       " ('tablet', 16835),\n",
       " ('use', 13096),\n",
       " ('good', 11504),\n",
       " ('love', 11191),\n",
       " ('amazon', 10068),\n",
       " ('easy', 9859),\n",
       " ('price', 9738),\n",
       " ('bought', 9006),\n",
       " ('kindle', 8912),\n",
       " ('one', 8498),\n",
       " ('batteries', 8074),\n",
       " ('fire', 7423),\n",
       " ('like', 6843),\n",
       " ('product', 6043),\n",
       " ('would', 5720),\n",
       " ('kids', 5695),\n",
       " ('well', 5376),\n",
       " ('loves', 5357),\n",
       " ('get', 5201)]"
      ]
     },
     "execution_count": 18,
     "metadata": {},
     "output_type": "execute_result"
    }
   ],
   "source": [
    "mostCommon = Counter(corpus).most_common(20)\n",
    "mostCommon"
   ]
  },
  {
   "cell_type": "code",
   "execution_count": 19,
   "id": "5cee2e01-168e-4c36-8c2b-4e3c96bad221",
   "metadata": {},
   "outputs": [],
   "source": [
    "words = []\n",
    "freq = []\n",
    "for word, count in mostCommon:\n",
    "    words.append(word)\n",
    "    freq.append(count)"
   ]
  },
  {
   "cell_type": "code",
   "execution_count": 20,
   "id": "393acc78-f38c-4003-814d-d130be9c2576",
   "metadata": {},
   "outputs": [
    {
     "data": {
      "image/png": "[encoded data removed]",
      "text/plain": [
       "<Figure size 640x480 with 1 Axes>"
      ]
     },
     "metadata": {},
     "output_type": "display_data"
    }
   ],
   "source": [
    "sns.barplot(x=freq, y=words)\n",
    "plt.title('Top 10 Most Frequently Occuring Words')\n",
    "plt.show()"
   ]
  },
  {
   "cell_type": "markdown",
   "id": "a7b9ba53-ffac-424b-b498-80aaaaa2477e",
   "metadata": {},
   "source": [
    "### Observations:\n",
    " - Dataset seems to be on amazon product reviews regarding tablets\n",
    " - General sentiments seems to indicate majority of the reviews contains positive sentiments words like great and love. Also they seem to talk about the price"
   ]
  },
  {
   "cell_type": "markdown",
   "id": "1094744b-a005-4b1b-a97f-07264ee87e44",
   "metadata": {},
   "source": [
    "### 2f. Most frequently occuring ngrams"
   ]
  },
  {
   "cell_type": "code",
   "execution_count": 21,
   "id": "ac2b3856-6b42-4bbe-acf8-f39c96f8b0b9",
   "metadata": {},
   "outputs": [],
   "source": [
    "cv = CountVectorizer(ngram_range=(2,2))\n",
    "bigrams = cv.fit_transform(data['text'])"
   ]
  },
  {
   "cell_type": "code",
   "execution_count": 22,
   "id": "538ede46-fc74-4abc-ba28-875c92a4a731",
   "metadata": {},
   "outputs": [
    {
     "ename": "MemoryError",
     "evalue": "Unable to allocate 145. GiB for an array with shape (67991, 285510) and data type int64",
     "output_type": "error",
     "traceback": [
      "\u001b[0;31m---------------------------------------------------------------------------\u001b[0m",
      "\u001b[0;31mMemoryError\u001b[0m                               Traceback (most recent call last)",
      "Cell \u001b[0;32mIn[22], line 1\u001b[0m\n\u001b[0;32m----> 1\u001b[0m count_values \u001b[38;5;241m=\u001b[39m \u001b[43mbigrams\u001b[49m\u001b[38;5;241;43m.\u001b[39;49m\u001b[43mtoarray\u001b[49m\u001b[43m(\u001b[49m\u001b[43m)\u001b[49m\u001b[38;5;241m.\u001b[39msum(axis\u001b[38;5;241m=\u001b[39m\u001b[38;5;241m0\u001b[39m)\n\u001b[1;32m      2\u001b[0m ngram_freq \u001b[38;5;241m=\u001b[39m pd\u001b[38;5;241m.\u001b[39mDataFrame(\u001b[38;5;28msorted\u001b[39m([(count_values[i], k) \u001b[38;5;28;01mfor\u001b[39;00m k, i \u001b[38;5;129;01min\u001b[39;00m cv\u001b[38;5;241m.\u001b[39mvocabulary_\u001b[38;5;241m.\u001b[39mitems()], reverse \u001b[38;5;241m=\u001b[39m \u001b[38;5;28;01mTrue\u001b[39;00m))\n\u001b[1;32m      3\u001b[0m ngram_freq\u001b[38;5;241m.\u001b[39mcolumns \u001b[38;5;241m=\u001b[39m [\u001b[38;5;124m\"\u001b[39m\u001b[38;5;124mfrequency\u001b[39m\u001b[38;5;124m\"\u001b[39m, \u001b[38;5;124m\"\u001b[39m\u001b[38;5;124mngram\u001b[39m\u001b[38;5;124m\"\u001b[39m]\n",
      "File \u001b[0;32m/opt/conda/envs/text-gen/lib/python3.8/site-packages/scipy/sparse/_compressed.py:1051\u001b[0m, in \u001b[0;36m_cs_matrix.toarray\u001b[0;34m(self, order, out)\u001b[0m\n\u001b[1;32m   1049\u001b[0m \u001b[38;5;28;01mif\u001b[39;00m out \u001b[38;5;129;01mis\u001b[39;00m \u001b[38;5;28;01mNone\u001b[39;00m \u001b[38;5;129;01mand\u001b[39;00m order \u001b[38;5;129;01mis\u001b[39;00m \u001b[38;5;28;01mNone\u001b[39;00m:\n\u001b[1;32m   1050\u001b[0m     order \u001b[38;5;241m=\u001b[39m \u001b[38;5;28mself\u001b[39m\u001b[38;5;241m.\u001b[39m_swap(\u001b[38;5;124m'\u001b[39m\u001b[38;5;124mcf\u001b[39m\u001b[38;5;124m'\u001b[39m)[\u001b[38;5;241m0\u001b[39m]\n\u001b[0;32m-> 1051\u001b[0m out \u001b[38;5;241m=\u001b[39m \u001b[38;5;28;43mself\u001b[39;49m\u001b[38;5;241;43m.\u001b[39;49m\u001b[43m_process_toarray_args\u001b[49m\u001b[43m(\u001b[49m\u001b[43morder\u001b[49m\u001b[43m,\u001b[49m\u001b[43m \u001b[49m\u001b[43mout\u001b[49m\u001b[43m)\u001b[49m\n\u001b[1;32m   1052\u001b[0m \u001b[38;5;28;01mif\u001b[39;00m \u001b[38;5;129;01mnot\u001b[39;00m (out\u001b[38;5;241m.\u001b[39mflags\u001b[38;5;241m.\u001b[39mc_contiguous \u001b[38;5;129;01mor\u001b[39;00m out\u001b[38;5;241m.\u001b[39mflags\u001b[38;5;241m.\u001b[39mf_contiguous):\n\u001b[1;32m   1053\u001b[0m     \u001b[38;5;28;01mraise\u001b[39;00m \u001b[38;5;167;01mValueError\u001b[39;00m(\u001b[38;5;124m'\u001b[39m\u001b[38;5;124mOutput array must be C or F contiguous\u001b[39m\u001b[38;5;124m'\u001b[39m)\n",
      "File \u001b[0;32m/opt/conda/envs/text-gen/lib/python3.8/site-packages/scipy/sparse/_base.py:1298\u001b[0m, in \u001b[0;36mspmatrix._process_toarray_args\u001b[0;34m(self, order, out)\u001b[0m\n\u001b[1;32m   1296\u001b[0m     \u001b[38;5;28;01mreturn\u001b[39;00m out\n\u001b[1;32m   1297\u001b[0m \u001b[38;5;28;01melse\u001b[39;00m:\n\u001b[0;32m-> 1298\u001b[0m     \u001b[38;5;28;01mreturn\u001b[39;00m \u001b[43mnp\u001b[49m\u001b[38;5;241;43m.\u001b[39;49m\u001b[43mzeros\u001b[49m\u001b[43m(\u001b[49m\u001b[38;5;28;43mself\u001b[39;49m\u001b[38;5;241;43m.\u001b[39;49m\u001b[43mshape\u001b[49m\u001b[43m,\u001b[49m\u001b[43m \u001b[49m\u001b[43mdtype\u001b[49m\u001b[38;5;241;43m=\u001b[39;49m\u001b[38;5;28;43mself\u001b[39;49m\u001b[38;5;241;43m.\u001b[39;49m\u001b[43mdtype\u001b[49m\u001b[43m,\u001b[49m\u001b[43m \u001b[49m\u001b[43morder\u001b[49m\u001b[38;5;241;43m=\u001b[39;49m\u001b[43morder\u001b[49m\u001b[43m)\u001b[49m\n",
      "\u001b[0;31mMemoryError\u001b[0m: Unable to allocate 145. GiB for an array with shape (67991, 285510) and data type int64"
     ]
    }
   ],
   "source": [
    "count_values = bigrams.toarray().sum(axis=0)\n",
    "ngram_freq = pd.DataFrame(sorted([(count_values[i], k) for k, i in cv.vocabulary_.items()], reverse = True))\n",
    "ngram_freq.columns = [\"frequency\", \"ngram\"]"
   ]
  },
  {
   "cell_type": "code",
   "execution_count": null,
   "id": "af4f3ca6-ff53-4191-809c-173e387f010f",
   "metadata": {},
   "outputs": [],
   "source": [
    "sns.barplot(x=ngram_freq['frequency'][:10], y=ngram_freq['ngram'][:10])\n",
    "plt.title('Top 10 Most Frequently Occuring Bigrams')\n",
    "plt.show()"
   ]
  },
  {
   "cell_type": "code",
   "execution_count": null,
   "id": "2e056a3a-0789-4e05-82d0-90340a7d63f2",
   "metadata": {},
   "outputs": [],
   "source": [
    "cv1 = CountVectorizer(ngram_range=(3,3))\n",
    "trigrams = cv1.fit_transform(df['Review'])\n",
    "count_values = trigrams.toarray().sum(axis=0)\n",
    "ngram_freq = pd.DataFrame(sorted([(count_values[i], k) for k, i in cv1.vocabulary_.items()], reverse = True))\n",
    "ngram_freq.columns = [\"frequency\", \"ngram\"]"
   ]
  },
  {
   "cell_type": "code",
   "execution_count": null,
   "id": "16cee49c-a8b1-49ec-a1c2-859f8aa42700",
   "metadata": {},
   "outputs": [],
   "source": [
    "sns.barplot(x=ngram_freq['frequency'][:10], y=ngram_freq['ngram'][:10])\n",
    "plt.title('Top 10 Most Frequently Occuring Trigrams')\n",
    "plt.show()"
   ]
  },
  {
   "cell_type": "code",
   "execution_count": 5,
   "id": "b5bd21f0-d178-4c1a-a1bc-77ae7aba1738",
   "metadata": {},
   "outputs": [],
   "source": [
    "# Preprocessing"
   ]
  },
  {
   "cell_type": "code",
   "execution_count": 6,
   "id": "aad6f716-e7e8-4e70-809e-cb1e0c0b86c0",
   "metadata": {},
   "outputs": [],
   "source": [
    "# Train Test Split"
   ]
  },
  {
   "cell_type": "code",
   "execution_count": 7,
   "id": "80d9b1b7-d799-43ed-9b0f-8bf98da76a0c",
   "metadata": {},
   "outputs": [],
   "source": [
    "# Model Fine Tuning"
   ]
  },
  {
   "cell_type": "code",
   "execution_count": 8,
   "id": "779998fd-ccb0-4f7b-96cd-4d482629eef9",
   "metadata": {},
   "outputs": [],
   "source": [
    "# Evaluation"
   ]
  },
  {
   "cell_type": "code",
   "execution_count": 9,
   "id": "66dc828d-9c06-4b10-b679-b80b7e846236",
   "metadata": {},
   "outputs": [],
   "source": [
    "# Summary"
   ]
  },
  {
   "cell_type": "code",
   "execution_count": null,
   "id": "e39bc373-9a31-4d78-9ee7-8d8b3dd3ae64",
   "metadata": {},
   "outputs": [],
   "source": []
  }
 ],
 "metadata": {
  "environment": {
   "kernel": "text-gen",
   "name": "pytorch-gpu.1-11.m93",
   "type": "gcloud",
   "uri": "gcr.io/deeplearning-platform-release/pytorch-gpu.1-11:m93"
  },
  "kernelspec": {
   "display_name": "text-gen",
   "language": "python",
   "name": "text-gen"
  },
  "language_info": {
   "codemirror_mode": {
    "name": "ipython",
    "version": 3
   },
   "file_extension": ".py",
   "mimetype": "text/x-python",
   "name": "python",
   "nbconvert_exporter": "python",
   "pygments_lexer": "ipython3",
   "version": "3.8.17"
  }
 },
 "nbformat": 4,
 "nbformat_minor": 5
}
